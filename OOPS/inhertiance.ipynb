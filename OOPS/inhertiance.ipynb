{
 "cells": [
  {
   "cell_type": "markdown",
   "id": "4bb9d28c",
   "metadata": {},
   "source": [
    "# Inheritance"
   ]
  },
  {
   "cell_type": "code",
   "execution_count": 6,
   "id": "39df080c",
   "metadata": {},
   "outputs": [],
   "source": [
    "class Person:\n",
    "    def __init__(self, name, age):  # Fixed typo from __int__ to __init__\n",
    "        self.name = name\n",
    "        self.age = age\n",
    "\n",
    "    def introduce(self):\n",
    "        return f\"My name is {self.name} and I am {self.age} years old.\"\n",
    "\n",
    "\n",
    "class Employee(Person):  # Defined outside Person class\n",
    "    def __init__(self, name, age, employee_id, designation):\n",
    "        super().__init__(name, age)  # Call parent constructor\n",
    "        self.employee_id = employee_id\n",
    "        self.designation = designation\n",
    "\n",
    "    def work(self):\n",
    "        return f\"{self.name} is working as a {self.designation}.\"\n",
    "\n",
    "    def introduce(self):\n",
    "        # Overrides Person's introduce method\n",
    "        base_intro = super().introduce()\n",
    "        return f\"{base_intro} I am an employee with ID {self.employee_id}.\"\n"
   ]
  },
  {
   "cell_type": "code",
   "execution_count": 8,
   "id": "5631977f",
   "metadata": {},
   "outputs": [
    {
     "name": "stdout",
     "output_type": "stream",
     "text": [
      "My name is Alice and I am 30 years old. I am an employee with ID EMP123.\n",
      "Alice is working as a Software Engineer.\n"
     ]
    }
   ],
   "source": [
    "e = Employee(\"Alice\", 30, \"EMP123\", \"Software Engineer\")\n",
    "print(e.introduce())\n",
    "print(e.work())\n"
   ]
  },
  {
   "cell_type": "markdown",
   "id": "5ac33b13",
   "metadata": {},
   "source": [
    "# Multilevel inheritance"
   ]
  },
  {
   "cell_type": "code",
   "execution_count": 30,
   "id": "783af19f",
   "metadata": {},
   "outputs": [],
   "source": [
    "from typing import AsyncGenerator  # Still unused, but okay to keep for future async use\n",
    "\n",
    "class Employee:\n",
    "    def __init__(self, name, id):\n",
    "        self.name = name\n",
    "        self.id = id\n",
    "\n",
    "    def get_employee_info(self):\n",
    "        return f\"Name: {self.name}, ID: {self.id}\"\n",
    "\n",
    "\n",
    "class Manager(Employee):\n",
    "    def __init__(self, name, id, department):\n",
    "        super().__init__(name, id)\n",
    "        self.department = department\n",
    "\n",
    "    def get_manager_info(self):\n",
    "        return f\"{super().get_employee_info()}, Department: {self.department}\"\n",
    "\n",
    "\n",
    "# Grandchild class\n",
    "class ProjectManager(Manager):\n",
    "    def __init__(self, name, id, department, project):\n",
    "        super().__init__(name, id, department)  # Correct usage\n",
    "        self.project = project\n",
    "\n",
    "    def get_project_info(self):\n",
    "        return f\"{super().get_manager_info()}, Project: {self.project}\"\n"
   ]
  },
  {
   "cell_type": "code",
   "execution_count": 31,
   "id": "f3a8ce32",
   "metadata": {},
   "outputs": [
    {
     "name": "stdout",
     "output_type": "stream",
     "text": [
      "Name: John, ID: PM456, Department: IT, Project: AI Development\n"
     ]
    }
   ],
   "source": [
    "pm = ProjectManager(\"John\", \"PM456\", \"IT\", \"AI Development\")\n",
    "print(pm.get_project_info())\n",
    " "
   ]
  },
  {
   "cell_type": "code",
   "execution_count": null,
   "id": "73f6cb99",
   "metadata": {},
   "outputs": [],
   "source": [
    "\n"
   ]
  },
  {
   "cell_type": "code",
   "execution_count": null,
   "id": "d3f8fa26",
   "metadata": {},
   "outputs": [],
   "source": []
  }
 ],
 "metadata": {
  "kernelspec": {
   "display_name": "venv",
   "language": "python",
   "name": "python3"
  },
  "language_info": {
   "codemirror_mode": {
    "name": "ipython",
    "version": 3
   },
   "file_extension": ".py",
   "mimetype": "text/x-python",
   "name": "python",
   "nbconvert_exporter": "python",
   "pygments_lexer": "ipython3",
   "version": "3.13.3"
  }
 },
 "nbformat": 4,
 "nbformat_minor": 5
}
