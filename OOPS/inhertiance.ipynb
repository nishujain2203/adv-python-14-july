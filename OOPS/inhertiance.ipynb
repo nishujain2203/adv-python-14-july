{
 "cells": [
  {
   "cell_type": "markdown",
   "id": "4bb9d28c",
   "metadata": {},
   "source": [
    "# Inheritance"
   ]
  },
  {
   "cell_type": "code",
   "execution_count": 6,
   "id": "39df080c",
   "metadata": {},
   "outputs": [],
   "source": [
    "class Person:\n",
    "    def __init__(self, name, age):  # Fixed typo from __int__ to __init__\n",
    "        self.name = name\n",
    "        self.age = age\n",
    "\n",
    "    def introduce(self):\n",
    "        return f\"My name is {self.name} and I am {self.age} years old.\"\n",
    "\n",
    "\n",
    "class Employee(Person):  # Defined outside Person class\n",
    "    def __init__(self, name, age, employee_id, designation):\n",
    "        super().__init__(name, age)  # Call parent constructor\n",
    "        self.employee_id = employee_id\n",
    "        self.designation = designation\n",
    "\n",
    "    def work(self):\n",
    "        return f\"{self.name} is working as a {self.designation}.\"\n",
    "\n",
    "    def introduce(self):\n",
    "        # Overrides Person's introduce method\n",
    "        base_intro = super().introduce()\n",
    "        return f\"{base_intro} I am an employee with ID {self.employee_id}.\"\n"
   ]
  },
  {
   "cell_type": "code",
   "execution_count": 8,
   "id": "5631977f",
   "metadata": {},
   "outputs": [
    {
     "name": "stdout",
     "output_type": "stream",
     "text": [
      "My name is Alice and I am 30 years old. I am an employee with ID EMP123.\n",
      "Alice is working as a Software Engineer.\n"
     ]
    }
   ],
   "source": [
    "e = Employee(\"Alice\", 30, \"EMP123\", \"Software Engineer\")\n",
    "print(e.introduce())\n",
    "print(e.work())\n"
   ]
  }
 ],
 "metadata": {
  "kernelspec": {
   "display_name": "venv",
   "language": "python",
   "name": "python3"
  },
  "language_info": {
   "codemirror_mode": {
    "name": "ipython",
    "version": 3
   },
   "file_extension": ".py",
   "mimetype": "text/x-python",
   "name": "python",
   "nbconvert_exporter": "python",
   "pygments_lexer": "ipython3",
   "version": "3.13.3"
  }
 },
 "nbformat": 4,
 "nbformat_minor": 5
}
